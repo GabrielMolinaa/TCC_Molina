{
 "cells": [
  {
   "cell_type": "code",
   "execution_count": 1,
   "metadata": {},
   "outputs": [],
   "source": [
    "import sys\n",
    "import os\n",
    "\n",
    "sys.path.append(os.path.abspath(r\"C:\\Users\\PC\\Desktop\\TCC_2025\"))"
   ]
  },
  {
   "cell_type": "code",
   "execution_count": null,
   "metadata": {},
   "outputs": [
    {
     "name": "stdout",
     "output_type": "stream",
     "text": [
      "Processando S10...\n",
      "Processando S10...\n",
      "Processando S1...\n",
      "Processando S1...\n",
      "Processando S2...\n",
      "Processando S2...\n",
      "Processando S3...\n",
      "Processando S3...\n",
      "Processando S4...\n",
      "Processando S4...\n",
      "Processando S5...\n",
      "Processando S5...\n",
      "Processando S6...\n",
      "Processando S6...\n",
      "Processando S7...\n",
      "Processando S7...\n",
      "Processando S8...\n",
      "Processando S8...\n",
      "Processando S9...\n",
      "Processando S9...\n",
      "Processamento concluído para todos os indivíduos.\n"
     ]
    }
   ],
   "source": [
    "import os\n",
    "from App.Helpers import NinaPro_Utility_db5 as nf\n",
    "import numpy as np\n",
    "\n",
    "diretorio = r\"D:\\Stash\\Datasets\\DB5\"\n",
    "diretorio_saida_10g = r\"D:\\Stash\\Datasets\\db5_janelado\\10g\"\n",
    "diretorio_saida_5g = r\"D:\\Stash\\Datasets\\db5_janelado\\5g\"\n",
    "repeticoes_treino = [1, 3, 4, 6]\n",
    "repeticoes_teste = [2, 5]\n",
    "tamanho_janela = 50\n",
    "passo_janela = 10\n",
    "\n",
    "\n",
    "gestures = {\n",
    "    \"10g\": [1, 2, 3, 4, 5, 6, 7, 8, 9, 10],\n",
    "    \"5g\": [1, 2, 3, 4, 5]\n",
    "}\n",
    "\n",
    "\n",
    "def processar_individuo(arquivo, gestures, diretorio_saida):\n",
    "    sujeito = os.path.basename(arquivo).split('_')[0] \n",
    "    print(f\"Processando {sujeito}...\")\n",
    "\n",
    "  \n",
    "    data = nf.get_data(diretorio, arquivo)\n",
    "\n",
    "\n",
    "    data = nf.normalise(data, repeticoes_treino)\n",
    "\n",
    "\n",
    "    emg_band = nf.filter_data(data=data, f=(20, 50), butterworth_order=4, btype='bandpass')\n",
    "\n",
    "\n",
    "    X_train, y_train, _ = nf.windowing(emg_band, repeticoes_treino, gestures, tamanho_janela, passo_janela)\n",
    "    X_test, y_test, _ = nf.windowing(emg_band, repeticoes_teste, gestures, tamanho_janela, passo_janela)\n",
    "\n",
    "    os.makedirs(diretorio_saida, exist_ok=True)\n",
    "    np.savez_compressed(os.path.join(diretorio_saida, f\"{sujeito}_train.npz\"), X_train=X_train, y_train=y_train)\n",
    "    np.savez_compressed(os.path.join(diretorio_saida, f\"{sujeito}_test.npz\"), X_test=X_test, y_test=y_test)\n",
    "\n",
    "\n",
    "arquivos = [f for f in os.listdir(diretorio) if f.endswith('.mat')]\n",
    "\n",
    "\n",
    "for arquivo in arquivos:\n",
    "\n",
    "    processar_individuo(arquivo, gestures[\"10g\"], diretorio_saida_10g)\n",
    "    processar_individuo(arquivo, gestures[\"5g\"], diretorio_saida_5g)\n",
    "\n",
    "print(\"Processamento concluído para todos os indivíduos.\")\n"
   ]
  },
  {
   "cell_type": "code",
   "execution_count": 2,
   "metadata": {},
   "outputs": [],
   "source": [
    "from App.Helpers import NinaPro_Utility as nf\n",
    "diretorio = r\"D:\\Stash\\Datasets\\DB5\"\n",
    "\n",
    "data = nf.get_data(diretorio, \"S1_E1_A1\")\n",
    "\n"
   ]
  },
  {
   "cell_type": "code",
   "execution_count": 3,
   "metadata": {},
   "outputs": [
    {
     "name": "stdout",
     "output_type": "stream",
     "text": [
      "[ 0  1  2  3  4  5  6  7  8  9 10 11 12]\n"
     ]
    }
   ],
   "source": [
    "print(data['stimulus'].unique())"
   ]
  }
 ],
 "metadata": {
  "kernelspec": {
   "display_name": ".venv",
   "language": "python",
   "name": "python3"
  },
  "language_info": {
   "codemirror_mode": {
    "name": "ipython",
    "version": 3
   },
   "file_extension": ".py",
   "mimetype": "text/x-python",
   "name": "python",
   "nbconvert_exporter": "python",
   "pygments_lexer": "ipython3",
   "version": "3.12.10"
  }
 },
 "nbformat": 4,
 "nbformat_minor": 2
}
